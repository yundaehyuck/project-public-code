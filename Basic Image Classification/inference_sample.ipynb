{
 "cells": [
  {
   "cell_type": "code",
   "execution_count": 1,
   "metadata": {},
   "outputs": [],
   "source": [
    "#submission\n",
    "\n",
    "import os\n",
    "import pandas as pd\n",
    "from PIL import Image\n",
    "\n",
    "import torch\n",
    "import torch.nn as nn\n",
    "import torch.nn.functional as F\n",
    "from torch.utils.data import Dataset, DataLoader\n",
    "\n",
    "from torchvision import transforms\n",
    "from torchvision.transforms import Resize, ToTensor, Normalize\n",
    "import tqdm\n",
    "from RandAugment import RandAugment"
   ]
  },
  {
   "cell_type": "code",
   "execution_count": 2,
   "metadata": {},
   "outputs": [],
   "source": [
    "# 테스트 데이터셋 폴더 경로를 지정해주세요.\n",
    "test_dir = '/opt/ml/input/data/eval'"
   ]
  },
  {
   "cell_type": "code",
   "execution_count": 3,
   "metadata": {},
   "outputs": [],
   "source": [
    "class TestDataset(Dataset):\n",
    "    def __init__(self, img_paths, transform):\n",
    "        self.img_paths = img_paths\n",
    "        self.transform = transform\n",
    "\n",
    "    def __getitem__(self, index):\n",
    "        image = Image.open(self.img_paths[index])\n",
    "\n",
    "        if self.transform:\n",
    "            image = self.transform(image)\n",
    "        return image\n",
    "\n",
    "    def __len__(self):\n",
    "        return len(self.img_paths)"
   ]
  },
  {
   "cell_type": "code",
   "execution_count": 4,
   "metadata": {},
   "outputs": [],
   "source": [
    "class ResBlock(nn.Module):\n",
    "    def __init__(self,num_channels=16):\n",
    "        super(ResBlock,self).__init__()\n",
    "        \n",
    "        self.conv1 = nn.Conv2d(num_channels,num_channels,kernel_size=3,stride=1,padding=1)\n",
    "        self.bn1 = nn.BatchNorm2d(num_channels)\n",
    "        self.leakyrelu = nn.LeakyReLU(negative_slope=0.2,inplace=True)\n",
    "        \n",
    "        self.conv2 = nn.Conv2d(num_channels,num_channels,kernel_size=3,stride=1,padding=1)\n",
    "        self.bn2 = nn.BatchNorm2d(num_channels)\n",
    "    \n",
    "    def forward(self,x):\n",
    "        residual = x\n",
    "        out = self.conv1(x)\n",
    "        out = self.bn1(out)\n",
    "        out = self.leakyrelu(out)\n",
    "        out = self.conv2(out)\n",
    "        out = self.bn2(out)\n",
    "        out += residual\n",
    "        return out\n",
    "\n",
    "def make_block(r,n):\n",
    "    residual = []\n",
    "    \n",
    "    for i in range(r):\n",
    "        block = ResBlock(num_channels=n)\n",
    "        residual.append(block)\n",
    "    \n",
    "    return nn.Sequential(*residual)\n",
    "\n",
    "class ResizingNetwork(nn.Module):\n",
    "    def __init__(self,r=1, n=16):\n",
    "        super(ResizingNetwork, self).__init__()\n",
    "        \n",
    "        self.conv1 = nn.Conv2d(in_channels=3,out_channels=n,kernel_size=7,stride=1,padding=3)\n",
    "        self.leakyrelu1 = nn.LeakyReLU(negative_slope=0.2,inplace=True)\n",
    "        \n",
    "        self.conv2 = nn.Conv2d(n,n,kernel_size=1,stride=1)\n",
    "        self.leakyrelu2 = nn.LeakyReLU(negative_slope=0.2,inplace=True)\n",
    "        self.bn1 = nn.BatchNorm2d(n)\n",
    "        \n",
    "        \n",
    "        self.resblock = make_block(r,n)\n",
    "        \n",
    "        self.conv3 = nn.Conv2d(n,n,kernel_size=3,stride=1,padding=1)\n",
    "        self.bn2 = nn.BatchNorm2d(n)\n",
    "        \n",
    "        self.conv4 = nn.Conv2d(n,out_channels=3,kernel_size=7,stride=1,padding=3)\n",
    "        \n",
    "    \n",
    "    def forward(self,x):\n",
    "        \n",
    "        residual = F.interpolate(x,scale_factor=0.5,mode='bilinear',align_corners=True,recompute_scale_factor=True)\n",
    "        #residual = x\n",
    "        \n",
    "        out = self.conv1(x)\n",
    "        out = self.leakyrelu1(out)        \n",
    "        out = self.conv2(out)\n",
    "        out = self.leakyrelu2(out)\n",
    "        out = self.bn1(out)\n",
    "        \n",
    "        out_residual = F.interpolate(out,scale_factor=0.5,mode='bilinear',align_corners=True,recompute_scale_factor=True)\n",
    "        #out_residual = out\n",
    "\n",
    "        out = self.resblock(out_residual)\n",
    "        out = self.conv3(out)\n",
    "        out = self.bn2(out)\n",
    "        out += out_residual\n",
    "        out = self.conv4(out)\n",
    "        out += residual\n",
    "        return out"
   ]
  },
  {
   "cell_type": "code",
   "execution_count": 56,
   "metadata": {},
   "outputs": [],
   "source": [
    "class Mymodel(nn.Module):\n",
    "    def __init__(self,resizer,recognition):\n",
    "        super(Mymodel,self).__init__()\n",
    "        self.resizer = resizer\n",
    "        self.recognition = recognition\n",
    "    \n",
    "    def forward(self,x):\n",
    "        resize_img = self.resize(x)\n",
    "        output = self.recognition(resize_img)\n",
    "        return output"
   ]
  },
  {
   "cell_type": "code",
   "execution_count": 5,
   "metadata": {},
   "outputs": [],
   "source": [
    "class Maskmodel(nn.Module):\n",
    "    def __init__(self,resizer,recognition):\n",
    "        super(Maskmodel,self).__init__()\n",
    "        self.resizer = resizer\n",
    "        self.recognition = recognition\n",
    "    \n",
    "    def forward(self,x):\n",
    "        resize_img = self.resizer(x)\n",
    "        mask_output = self.recognition(resize_img)\n",
    "        return mask_output"
   ]
  },
  {
   "cell_type": "code",
   "execution_count": 6,
   "metadata": {},
   "outputs": [],
   "source": [
    "class Gendermodel(nn.Module):\n",
    "    def __init__(self,resizer,recognition):\n",
    "        super(Gendermodel,self).__init__()\n",
    "        self.resizer = resizer\n",
    "        self.recognition = recognition\n",
    "    \n",
    "    def forward(self,x):\n",
    "        resize_img = self.resizer(x)\n",
    "        gender_output = self.recognition(resize_img)\n",
    "        return gender_output"
   ]
  },
  {
   "cell_type": "code",
   "execution_count": 7,
   "metadata": {},
   "outputs": [],
   "source": [
    "class Agemodel(nn.Module):\n",
    "    def __init__(self,resizer,recognition):\n",
    "        super(Agemodel,self).__init__()\n",
    "        self.resizer = resizer\n",
    "        self.recognition = recognition\n",
    "    \n",
    "    def forward(self,x):\n",
    "        resize_img = self.resizer(x)\n",
    "        age_output = self.recognition(resize_img)\n",
    "        return age_output"
   ]
  },
  {
   "cell_type": "code",
   "execution_count": 6,
   "metadata": {},
   "outputs": [],
   "source": [
    "#my model\n",
    "model = torch.load('efficientb6_cutmix.pth')"
   ]
  },
  {
   "cell_type": "code",
   "execution_count": 7,
   "metadata": {},
   "outputs": [
    {
     "data": {
      "text/plain": [
       "<All keys matched successfully>"
      ]
     },
     "execution_count": 7,
     "metadata": {},
     "output_type": "execute_result"
    }
   ],
   "source": [
    "model.load_state_dict(torch.load('result_018_accuracy_99.10%.ckpt'))"
   ]
  },
  {
   "cell_type": "code",
   "execution_count": 8,
   "metadata": {},
   "outputs": [],
   "source": [
    "# meta 데이터와 이미지 경로를 불러옵니다.\n",
    "submission = pd.read_csv(os.path.join(test_dir, 'info.csv'))\n",
    "image_dir = os.path.join(test_dir, 'images')\n",
    "\n",
    "transform = transforms.Compose([\n",
    "    ToTensor()\n",
    "])\n",
    "\n",
    "# Test Dataset 클래스 객체를 생성하고 DataLoader를 만듭니다.\n",
    "image_paths = [os.path.join(image_dir, img_id) for img_id in submission.ImageID]\n",
    "\n",
    "dataset_test = TestDataset(image_paths, transform)\n",
    "\n",
    "loader = DataLoader(\n",
    "    dataset_test,\n",
    "    shuffle=False\n",
    ")\n"
   ]
  },
  {
   "cell_type": "code",
   "execution_count": null,
   "metadata": {},
   "outputs": [],
   "source": [
    "# basic inference\n",
    "device = torch.device('cuda')\n",
    "\n",
    "model.to(device)\n",
    "\n",
    "model.eval()\n",
    "\n",
    "# 모델이 테스트 데이터셋을 예측하고 결과를 저장합니다.\n",
    "all_predictions = []\n",
    "for images in tqdm.tqdm(loader):\n",
    "    with torch.no_grad():\n",
    "        images = images.to(device)\n",
    "        pred = model(images)\n",
    "        pred = pred.argmax(dim=-1)\n",
    "        all_predictions.extend(pred.cpu().numpy())\n",
    "submission['ans'] = all_predictions\n",
    "\n",
    "# 제출할 파일을 저장합니다.\n",
    "submission.to_csv(os.path.join(test_dir, 'submission.csv'), index=False)\n",
    "print('test inference is done!')"
   ]
  },
  {
   "cell_type": "code",
   "execution_count": 37,
   "metadata": {},
   "outputs": [],
   "source": [
    "#test time augmentation\n",
    "\n",
    "transform = transforms.Compose([\n",
    "    ToTensor()\n",
    "])\n",
    "\n",
    "transform.transforms.insert(0, RandAugment(4, 9))\n",
    "\n",
    "dataset_test2 = TestDataset(image_paths, transform)\n",
    "\n",
    "loader2 = DataLoader(\n",
    "    dataset_test2,\n",
    "    shuffle=False\n",
    ")\n"
   ]
  },
  {
   "cell_type": "code",
   "execution_count": 38,
   "metadata": {},
   "outputs": [],
   "source": [
    "transform = transforms.Compose([\n",
    "    ToTensor()\n",
    "])\n",
    "\n",
    "transform.transforms.insert(0, RandAugment(4, 9))\n",
    "\n",
    "dataset_test3 = TestDataset(image_paths, transform)\n",
    "\n",
    "loader3 = DataLoader(\n",
    "    dataset_test3,\n",
    "    shuffle=False\n",
    ")\n"
   ]
  },
  {
   "cell_type": "code",
   "execution_count": 44,
   "metadata": {},
   "outputs": [],
   "source": [
    "transform = transforms.Compose([\n",
    "    ToTensor()\n",
    "])\n",
    "\n",
    "dataset_test4 = TestDataset(image_paths, transform)\n",
    "\n",
    "loader4 = DataLoader(\n",
    "    dataset_test4,\n",
    "    shuffle=False\n",
    ")"
   ]
  },
  {
   "cell_type": "code",
   "execution_count": null,
   "metadata": {},
   "outputs": [],
   "source": [
    "#test time augmentation prediction\n",
    "device = torch.device('cuda')\n",
    "\n",
    "model.to(device)\n",
    "\n",
    "model.eval()\n",
    "\n",
    "# 모델이 테스트 데이터셋을 예측하고 결과를 저장합니다.\n",
    "all_predictions = []\n",
    "\n",
    "for images,images2,images3,images4 in tqdm.tqdm(zip(loader,loader2,loader3,loader4)):\n",
    "    with torch.no_grad():\n",
    "        images = images.to(device)\n",
    "        images2 = images2.to(device)\n",
    "        images3 = images3.to(device)\n",
    "        images4 = images4.to(device)\n",
    "        pred1 = F.softmax(model(images),dim=-1)\n",
    "        pred2 = F.softmax(model(images2),dim=-1)\n",
    "        pred3 = F.softmax(model(images3),dim=-1)\n",
    "        pred4 = F.softmax(model(images4),dim=-1)\n",
    "        pred = (pred1 + pred2 + pred3 + pred4) / 4\n",
    "        pred = pred.argmax(dim=-1)\n",
    "        all_predictions.extend(pred.cpu().numpy())\n",
    "submission['ans'] = all_predictions\n",
    "\n",
    "# 제출할 파일을 저장합니다.\n",
    "submission.to_csv(os.path.join(test_dir, 'submission.csv'), index=False)\n",
    "print('test inference is done!')"
   ]
  },
  {
   "cell_type": "code",
   "execution_count": 10,
   "metadata": {},
   "outputs": [
    {
     "name": "stderr",
     "output_type": "stream",
     "text": [
      "100%|██████████| 12600/12600 [41:07<00:00,  5.11it/s] "
     ]
    },
    {
     "name": "stdout",
     "output_type": "stream",
     "text": [
      "test inference is done!\n"
     ]
    },
    {
     "name": "stderr",
     "output_type": "stream",
     "text": [
      "\n"
     ]
    }
   ],
   "source": [
    "# mask&gender&age prediction\n",
    "\n",
    "device = torch.device('cuda')\n",
    "\n",
    "model.to(device)\n",
    "model2.to(device)\n",
    "model3.to(device)\n",
    "\n",
    "model.eval()\n",
    "model2.eval()\n",
    "model3.eval()\n",
    "\n",
    "# 모델이 테스트 데이터셋을 예측하고 결과를 저장합니다.\n",
    "all_predictions = []\n",
    "for images in tqdm.tqdm(loader):\n",
    "    with torch.no_grad():\n",
    "        images = images.to(device)\n",
    "        pred_mask = model(images)\n",
    "        pred_mask = pred_mask.argmax(dim=-1)\n",
    "        pred_gender = model2(images)\n",
    "        pred_gender = pred_gender.argmax(dim=-1)\n",
    "        pred_age = model3(images)\n",
    "        pred_age = pred_age.argmax(dim=-1)\n",
    "        pred = 6*pred_mask + 3*pred_gender + pred_age\n",
    "        all_predictions.extend(pred.cpu().numpy())\n",
    "submission['ans'] = all_predictions\n",
    "\n",
    "# 제출할 파일을 저장합니다.\n",
    "submission.to_csv(os.path.join(test_dir, 'submission.csv'), index=False)\n",
    "print('test inference is done!')        "
   ]
  },
  {
   "cell_type": "code",
   "execution_count": 11,
   "metadata": {},
   "outputs": [
    {
     "name": "stderr",
     "output_type": "stream",
     "text": [
      "100%|██████████| 12600/12600 [42:27<00:00,  4.95it/s]"
     ]
    },
    {
     "name": "stdout",
     "output_type": "stream",
     "text": [
      "test inference is done!\n"
     ]
    },
    {
     "name": "stderr",
     "output_type": "stream",
     "text": [
      "\n"
     ]
    }
   ],
   "source": [
    "#ensemble soft voting with two model\n",
    "device = torch.device('cuda')\n",
    "\n",
    "model.to(device)\n",
    "model2.to(device)\n",
    "\n",
    "model.eval()\n",
    "model2.eval()\n",
    "\n",
    "# 모델이 테스트 데이터셋을 예측하고 결과를 저장합니다.\n",
    "all_predictions = []\n",
    "\n",
    "for images in tqdm.tqdm(loader):\n",
    "    with torch.no_grad():\n",
    "        images = images.to(device)\n",
    "        pred1 = F.softmax(model(images),dim=-1)\n",
    "        pred2 = F.softmax(model2(images),dim=-1)\n",
    "        pred = (pred1 + pred2) / 2\n",
    "        pred = pred.argmax(dim=-1)\n",
    "        all_predictions.extend(pred.cpu().numpy())\n",
    "submission['ans'] = all_predictions\n",
    "\n",
    "# 제출할 파일을 저장합니다.\n",
    "submission.to_csv(os.path.join(test_dir, 'submission.csv'), index=False)\n",
    "print('test inference is done!')"
   ]
  },
  {
   "cell_type": "code",
   "execution_count": 16,
   "metadata": {},
   "outputs": [
    {
     "name": "stderr",
     "output_type": "stream",
     "text": [
      "100%|██████████| 12600/12600 [56:22<00:00,  3.73it/s] "
     ]
    },
    {
     "name": "stdout",
     "output_type": "stream",
     "text": [
      "test inference is done!\n"
     ]
    },
    {
     "name": "stderr",
     "output_type": "stream",
     "text": [
      "\n"
     ]
    }
   ],
   "source": [
    "#ensemble hard voting with many model\n",
    "from collections import Counter\n",
    "\n",
    "device = torch.device('cuda')\n",
    "\n",
    "model.to(device)\n",
    "model2.to(device)\n",
    "model3.to(device)\n",
    "model4.to(device)\n",
    "model5.to(device)\n",
    "model6.to(device)\n",
    "\n",
    "model.eval()\n",
    "model2.eval()\n",
    "model3.eval()\n",
    "model4.eval()\n",
    "model5.eval()\n",
    "model6.eval()\n",
    "\n",
    "# 모델이 테스트 데이터셋을 예측하고 결과를 저장합니다.\n",
    "all_predictions = []\n",
    "voting_list = []\n",
    "\n",
    "for images in tqdm.tqdm(loader):\n",
    "    with torch.no_grad():\n",
    "        images = images.to(device)\n",
    "        pred1 = model(images)\n",
    "        pred1 = pred1.argmax(dim=-1)\n",
    "        voting_list.append(pred1)\n",
    "        pred2 = model2(images)\n",
    "        pred2 = pred2.argmax(dim=-1)\n",
    "        voting_list.append(pred2)\n",
    "        pred3 = model3(images)\n",
    "        pred3 = pred3.argmax(dim=-1)\n",
    "        voting_list.append(pred3)\n",
    "        pred4 = model4(images)\n",
    "        pred4 = pred4.argmax(dim=-1)\n",
    "        voting_list.append(pred4)\n",
    "        pred5 = model5(images)\n",
    "        pred5 = pred5.argmax(dim=-1)\n",
    "        voting_list.append(pred5)\n",
    "        pred6 = model6(images)\n",
    "        pred6 = pred6.argmax(dim=-1)\n",
    "        voting_list.append(pred6)\n",
    "        pred = Counter(voting_list).most_common(1)[0][0]\n",
    "        all_predictions.extend(pred.cpu().numpy())\n",
    "        voting_list = []\n",
    "submission['ans'] = all_predictions\n",
    "\n",
    "# 제출할 파일을 저장합니다.\n",
    "submission.to_csv(os.path.join(test_dir, 'submission.csv'), index=False)\n",
    "print('test inference is done!')"
   ]
  },
  {
   "cell_type": "code",
   "execution_count": null,
   "metadata": {},
   "outputs": [],
   "source": []
  }
 ],
 "metadata": {
  "kernelspec": {
   "display_name": "Python 3",
   "language": "python",
   "name": "python3"
  },
  "language_info": {
   "codemirror_mode": {
    "name": "ipython",
    "version": 3
   },
   "file_extension": ".py",
   "mimetype": "text/x-python",
   "name": "python",
   "nbconvert_exporter": "python",
   "pygments_lexer": "ipython3",
   "version": "3.7.6"
  }
 },
 "nbformat": 4,
 "nbformat_minor": 5
}
